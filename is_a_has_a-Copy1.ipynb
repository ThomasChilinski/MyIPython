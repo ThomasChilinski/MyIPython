{
 "metadata": {
  "name": ""
 },
 "nbformat": 3,
 "nbformat_minor": 0,
 "worksheets": [
  {
   "cells": [
    {
     "cell_type": "code",
     "collapsed": false,
     "input": [
      "## Animal is-a object (yes, sort of confusing) look at the extra credit\n",
      "class Animal(object):\n",
      "    \"\"\" pass the number of legs, then the things the animal eats.                                  \"\"\"\n",
      "    def __init__(self, legs, **diet):\n",
      "        self.diet = diet\n",
      "        self.legs = legs\n",
      "        self.health = 10\n",
      "        self.poison = []\n",
      "    \n",
      "    def meal(self, food):\n",
      "        if food in self.diet:\n",
      "            self.health += self.diet[food] \n",
      "            \n",
      "        else:\n",
      "            print ( \"I can't eat that\")\n",
      "        \n",
      "        if self.health <= 0:\n",
      "            print ( \"The %r has died\" %(self) )\n",
      "            \n",
      "            \n",
      "    \n",
      "    pass\n",
      "\n",
      "## Dog is-a animal\n",
      "class Dog(Animal):\n",
      "\n",
      "    def __init__(self, name):\n",
      "        ## Dog has-a name attribute\n",
      "        self.name = name\n",
      "        self.eats = ['meat', 'dog food']\n",
      "        self.legs = 4\n",
      "\n",
      "## Cat is an animal\n",
      "class Cat(Animal):\n",
      "\n",
      "    def __init__(self, name):\n",
      "        ## Cat has a name attribute\n",
      "        self.name = name\n",
      "\n",
      "## Person is-an objects\n",
      "class Person(object):\n",
      "\n",
      "    def __init__(self, name):\n",
      "        ## Person has-a name attribute\n",
      "        self.name = name\n",
      "\n",
      "        ## Person has-a pet of some kind\n",
      "        self.pet = None\n",
      "\n",
      "## Employee is a person\n",
      "class Employee(Person):\n",
      "\n",
      "    def __init__(self, name, salary):\n",
      "        ## ?? hmm what is this strange magic?\n",
      "        super(Employee, self).__init__(name)\n",
      "        ## employee has-a salary\n",
      "        self.salary = salary\n",
      "\n",
      "## Fish is-a object\n",
      "class Fish(object):\n",
      "    pass\n",
      "\n",
      "## Salmon is-a fish\n",
      "class Salmon(Fish):\n",
      "    pass\n",
      "\n",
      "## Halibut is-a fish\n",
      "class Halibut(Fish):\n",
      "    pass\n",
      "\n",
      "\n",
      "## The instance rover is-a Dog with the name \"Rover\".\n",
      "rover = Dog(\"Rover\")\n",
      "\n",
      "## The instance of satan is-a Cat with the name \"Satan\".\n",
      "satan = Cat(\"Satan\")\n",
      "\n",
      "## The instance \"Mary\" is-a Person with the name \"Mary\"\n",
      "mary = Person(\"Mary\")\n",
      "\n",
      "## marry has-a pet attribute satan. Which happens to be the name \n",
      "## of a Cat.\n",
      "\n",
      "mary.pet = satan\n",
      "\n",
      "## frank is-a Employee with a name and salary parameters.\n",
      "frank = Employee(\"Frank\", 120000)\n",
      "\n",
      "## the instance of frank has-a pet rover\n",
      "frank.pet = rover\n",
      "\n",
      "## flipper is-a fish! A fish is an object!\n",
      "flipper = Fish()\n",
      "\n",
      "## Salmon is-a fish.\n",
      "crouse = Salmon()\n",
      "\n",
      "## Harry is a Halibut\n",
      "harry = Halibut()"
     ],
     "language": "python",
     "metadata": {},
     "outputs": [],
     "prompt_number": 19
    },
    {
     "cell_type": "raw",
     "metadata": {},
     "source": [
      "1. No Zed NO!\n",
      "2. \"Is it possible to use a class like it's an Object?\"\n",
      "    \n",
      "    No Zed you have to make an instance of a class fist. A class is something that remebers how to make objects.\n",
      "\n",
      "Objects have:\n",
      "\n",
      "    *a unique identity (returned by id() )\n",
      "\n",
      "    *a type (returned by type(x))\n",
      "\n",
      "    *some content"
     ]
    },
    {
     "cell_type": "markdown",
     "metadata": {},
     "source": [
      "Door number three says messs with the code \"good idea zed\".\n"
     ]
    },
    {
     "cell_type": "code",
     "collapsed": false,
     "input": [
      "Trible = Animal(4, ham=5, brocolli=5, posion= -6)"
     ],
     "language": "python",
     "metadata": {},
     "outputs": [],
     "prompt_number": 20
    },
    {
     "cell_type": "code",
     "collapsed": false,
     "input": [
      "Trible.diet"
     ],
     "language": "python",
     "metadata": {},
     "outputs": [
      {
       "metadata": {},
       "output_type": "pyout",
       "prompt_number": 21,
       "text": [
        "{'brocolli': 5, 'ham': 5, 'posion': -6}"
       ]
      }
     ],
     "prompt_number": 21
    },
    {
     "cell_type": "code",
     "collapsed": false,
     "input": [
      "'ham' in Trible.diet"
     ],
     "language": "python",
     "metadata": {},
     "outputs": [
      {
       "metadata": {},
       "output_type": "pyout",
       "prompt_number": 22,
       "text": [
        "True"
       ]
      }
     ],
     "prompt_number": 22
    },
    {
     "cell_type": "code",
     "collapsed": false,
     "input": [
      "Trible.meal('ham')"
     ],
     "language": "python",
     "metadata": {},
     "outputs": [],
     "prompt_number": 23
    },
    {
     "cell_type": "code",
     "collapsed": false,
     "input": [
      "Trible.health"
     ],
     "language": "python",
     "metadata": {},
     "outputs": [
      {
       "metadata": {},
       "output_type": "pyout",
       "prompt_number": 24,
       "text": [
        "15"
       ]
      }
     ],
     "prompt_number": 24
    },
    {
     "cell_type": "code",
     "collapsed": false,
     "input": [
      "Trible.meal('posion')"
     ],
     "language": "python",
     "metadata": {},
     "outputs": [],
     "prompt_number": 25
    },
    {
     "cell_type": "code",
     "collapsed": false,
     "input": [
      "Trible.meal('posion')"
     ],
     "language": "python",
     "metadata": {},
     "outputs": [],
     "prompt_number": 26
    },
    {
     "cell_type": "code",
     "collapsed": false,
     "input": [
      "Trible.meal('posion')"
     ],
     "language": "python",
     "metadata": {},
     "outputs": [
      {
       "output_type": "stream",
       "stream": "stdout",
       "text": [
        "The <__main__.Animal object at 0x7f15dc6cf320> has died\n"
       ]
      }
     ],
     "prompt_number": 27
    },
    {
     "cell_type": "code",
     "collapsed": false,
     "input": [],
     "language": "python",
     "metadata": {},
     "outputs": []
    }
   ],
   "metadata": {}
  }
 ]
}