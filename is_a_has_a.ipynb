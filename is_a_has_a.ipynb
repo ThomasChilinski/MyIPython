{
 "metadata": {
  "name": ""
 },
 "nbformat": 3,
 "nbformat_minor": 0,
 "worksheets": [
  {
   "cells": [
    {
     "cell_type": "code",
     "collapsed": false,
     "input": [
      "## Animal is-a object (yes, sort of confusing) look at the extra credit\n",
      "class Animal(object, int, *list):\n",
      "    \"\"\" pass the number of legs, then the things the animal eats.                                  \"\"\"\n",
      "    def __init__(self, legs, *eats):\n",
      "        self.eats = list.append()\n",
      "        self.legs = legs\n",
      "    \n",
      "    pass\n",
      "\n",
      "## Dog is-a animal\n",
      "class Dog(Animal):\n",
      "\n",
      "    def __init__(self, name):\n",
      "        ## Dog has-a name attribute\n",
      "        self.name = name\n",
      "\n",
      "## Cat is an animal\n",
      "class Cat(Animal):\n",
      "\n",
      "    def __init__(self, name):\n",
      "        ## Cat has a name attribute\n",
      "        self.name = name\n",
      "\n",
      "## Person is-an objects\n",
      "class Person(object):\n",
      "\n",
      "    def __init__(self, name):\n",
      "        ## Person has-a name attribute\n",
      "        self.name = name\n",
      "\n",
      "        ## Person has-a pet of some kind\n",
      "        self.pet = None\n",
      "\n",
      "## Employee is a person\n",
      "class Employee(Person):\n",
      "\n",
      "    def __init__(self, name, salary):\n",
      "        ## ?? hmm what is this strange magic?\n",
      "        super(Employee, self).__init__(name)\n",
      "        ## employee has-a salary\n",
      "        self.salary = salary\n",
      "\n",
      "## Fish is-a object\n",
      "class Fish(object):\n",
      "    pass\n",
      "\n",
      "## Salmon is-a fish\n",
      "class Salmon(Fish):\n",
      "    pass\n",
      "\n",
      "## Halibut is-a fish\n",
      "class Halibut(Fish):\n",
      "    pass\n",
      "\n",
      "\n",
      "## The instance rover is-a Dog with the name \"Rover\".\n",
      "rover = Dog(\"Rover\")\n",
      "\n",
      "## The instance of satan is-a Cat with the name \"Satan\".\n",
      "satan = Cat(\"Satan\")\n",
      "\n",
      "## The instance \"Mary\" is-a Person with the name \"Mary\"\n",
      "mary = Person(\"Mary\")\n",
      "\n",
      "## marry has-a pet attribute satan. Which happens to be the name \n",
      "## of a Cat.\n",
      "\n",
      "mary.pet = satan\n",
      "\n",
      "## frank is-a Employee with a name and salary parameters.\n",
      "frank = Employee(\"Frank\", 120000)\n",
      "\n",
      "## the instance of frank has-a pet rover\n",
      "frank.pet = rover\n",
      "\n",
      "## flipper is-a fish! A fish is an object!\n",
      "flipper = Fish()\n",
      "\n",
      "## Salmon is-a fish.\n",
      "crouse = Salmon()\n",
      "\n",
      "## Harry is a Halibut\n",
      "harry = Halibut()"
     ],
     "language": "python",
     "metadata": {},
     "outputs": [
      {
       "ename": "NameError",
       "evalue": "name 'legs' is not defined",
       "output_type": "pyerr",
       "traceback": [
        "\u001b[0;31m---------------------------------------------------------------------------\u001b[0m\n\u001b[0;31mNameError\u001b[0m                                 Traceback (most recent call last)",
        "\u001b[0;32m<ipython-input-1-4228fb13ad3e>\u001b[0m in \u001b[0;36m<module>\u001b[0;34m()\u001b[0m\n\u001b[1;32m      1\u001b[0m \u001b[0;31m## Animal is-a object (yes, sort of confusing) look at the extra credit\u001b[0m\u001b[0;34m\u001b[0m\u001b[0;34m\u001b[0m\u001b[0m\n\u001b[0;32m----> 2\u001b[0;31m \u001b[0;32mclass\u001b[0m \u001b[0mAnimal\u001b[0m\u001b[0;34m(\u001b[0m\u001b[0mobject\u001b[0m\u001b[0;34m,\u001b[0m \u001b[0mlegs\u001b[0m\u001b[0;34m,\u001b[0m \u001b[0;34m*\u001b[0m\u001b[0meats\u001b[0m\u001b[0;34m)\u001b[0m\u001b[0;34m:\u001b[0m\u001b[0;34m\u001b[0m\u001b[0m\n\u001b[0m\u001b[1;32m      3\u001b[0m \u001b[0;34m\u001b[0m\u001b[0m\n\u001b[1;32m      4\u001b[0m     \u001b[0;32mdef\u001b[0m \u001b[0m__init__\u001b[0m\u001b[0;34m(\u001b[0m\u001b[0mself\u001b[0m\u001b[0;34m,\u001b[0m \u001b[0mlegs\u001b[0m\u001b[0;34m,\u001b[0m \u001b[0;34m*\u001b[0m\u001b[0meats\u001b[0m\u001b[0;34m)\u001b[0m\u001b[0;34m:\u001b[0m\u001b[0;34m\u001b[0m\u001b[0m\n\u001b[1;32m      5\u001b[0m         \u001b[0mself\u001b[0m\u001b[0;34m.\u001b[0m\u001b[0meats\u001b[0m \u001b[0;34m=\u001b[0m \u001b[0mlist\u001b[0m\u001b[0;34m.\u001b[0m\u001b[0mappend\u001b[0m\u001b[0;34m(\u001b[0m\u001b[0;34m)\u001b[0m\u001b[0;34m\u001b[0m\u001b[0m\n",
        "\u001b[0;31mNameError\u001b[0m: name 'legs' is not defined"
       ]
      }
     ],
     "prompt_number": 1
    },
    {
     "cell_type": "raw",
     "metadata": {},
     "source": [
      "1. No Zed NO!\n",
      "2. \"Is it possible to use a class like it's an Object?\"\n",
      "    \n",
      "    No Zed you have to make an instance of a class fist. A class is something that remebers how to make objects.\n",
      "\n",
      "Objects have:\n",
      "\n",
      "    *a unique identity (returned by id() )\n",
      "\n",
      "    *a type (returned by type(x))\n",
      "\n",
      "    *some content"
     ]
    },
    {
     "cell_type": "markdown",
     "metadata": {},
     "source": [
      "Door number three says messs with the code \"good idea zed\".\n"
     ]
    },
    {
     "cell_type": "code",
     "collapsed": false,
     "input": [],
     "language": "python",
     "metadata": {},
     "outputs": []
    }
   ],
   "metadata": {}
  }
 ]
}