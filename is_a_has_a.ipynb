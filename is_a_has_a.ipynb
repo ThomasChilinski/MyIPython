{
 "metadata": {
  "name": ""
 },
 "nbformat": 3,
 "nbformat_minor": 0,
 "worksheets": [
  {
   "cells": [
    {
     "cell_type": "code",
     "collapsed": false,
     "input": [
      "## Animal is-a object (yes, sort of confusing) look at the extra credit\n",
      "class Animal(object):\n",
      "    \"\"\" pass the number of legs, then the things the animal eats.                                  \"\"\"\n",
      "    def __init__(self, legs, *eats):\n",
      "        self.eats = list(eats)\n",
      "        self.legs = legs\n",
      "        self.health = 10\n",
      "        self.poison = []\n",
      "    \n",
      "    def meal(self, food):\n",
      "        if food in self.eats:\n",
      "            self.health += 2\n",
      "        elif food in self.poison:\n",
      "            self.health -= 5\n",
      "            print ('YuK :P')\n",
      "        else:\n",
      "            print ( \"I can't eat that\")\n",
      "            \n",
      "    \n",
      "    pass\n",
      "\n",
      "## Dog is-a animal\n",
      "class Dog(Animal):\n",
      "\n",
      "    def __init__(self, name):\n",
      "        ## Dog has-a name attribute\n",
      "        self.name = name\n",
      "        self.eats = ['meat', 'dog food']\n",
      "        self.legs = 4\n",
      "\n",
      "## Cat is an animal\n",
      "class Cat(Animal):\n",
      "\n",
      "    def __init__(self, name):\n",
      "        ## Cat has a name attribute\n",
      "        self.name = name\n",
      "\n",
      "## Person is-an objects\n",
      "class Person(object):\n",
      "\n",
      "    def __init__(self, name):\n",
      "        ## Person has-a name attribute\n",
      "        self.name = name\n",
      "\n",
      "        ## Person has-a pet of some kind\n",
      "        self.pet = None\n",
      "\n",
      "## Employee is a person\n",
      "class Employee(Person):\n",
      "\n",
      "    def __init__(self, name, salary):\n",
      "        ## ?? hmm what is this strange magic?\n",
      "        super(Employee, self).__init__(name)\n",
      "        ## employee has-a salary\n",
      "        self.salary = salary\n",
      "\n",
      "## Fish is-a object\n",
      "class Fish(object):\n",
      "    pass\n",
      "\n",
      "## Salmon is-a fish\n",
      "class Salmon(Fish):\n",
      "    pass\n",
      "\n",
      "## Halibut is-a fish\n",
      "class Halibut(Fish):\n",
      "    pass\n",
      "\n",
      "\n",
      "## The instance rover is-a Dog with the name \"Rover\".\n",
      "rover = Dog(\"Rover\")\n",
      "\n",
      "## The instance of satan is-a Cat with the name \"Satan\".\n",
      "satan = Cat(\"Satan\")\n",
      "\n",
      "## The instance \"Mary\" is-a Person with the name \"Mary\"\n",
      "mary = Person(\"Mary\")\n",
      "\n",
      "## marry has-a pet attribute satan. Which happens to be the name \n",
      "## of a Cat.\n",
      "\n",
      "mary.pet = satan\n",
      "\n",
      "## frank is-a Employee with a name and salary parameters.\n",
      "frank = Employee(\"Frank\", 120000)\n",
      "\n",
      "## the instance of frank has-a pet rover\n",
      "frank.pet = rover\n",
      "\n",
      "## flipper is-a fish! A fish is an object!\n",
      "flipper = Fish()\n",
      "\n",
      "## Salmon is-a fish.\n",
      "crouse = Salmon()\n",
      "\n",
      "## Harry is a Halibut\n",
      "harry = Halibut()"
     ],
     "language": "python",
     "metadata": {},
     "outputs": [],
     "prompt_number": 136
    },
    {
     "cell_type": "raw",
     "metadata": {},
     "source": [
      "1. No Zed NO!\n",
      "2. \"Is it possible to use a class like it's an Object?\"\n",
      "    \n",
      "    No Zed you have to make an instance of a class fist. A class is something that remebers how to make objects.\n",
      "\n",
      "Objects have:\n",
      "\n",
      "    *a unique identity (returned by id() )\n",
      "\n",
      "    *a type (returned by type(x))\n",
      "\n",
      "    *some content"
     ]
    },
    {
     "cell_type": "markdown",
     "metadata": {},
     "source": [
      "Door number three says messs with the code \"good idea zed\".\n"
     ]
    },
    {
     "cell_type": "code",
     "collapsed": false,
     "input": [
      "Trible = Animal(4, 'ham', 'brocilli')\n"
     ],
     "language": "python",
     "metadata": {},
     "outputs": [],
     "prompt_number": 137
    },
    {
     "cell_type": "code",
     "collapsed": false,
     "input": [
      "Trible.eats"
     ],
     "language": "python",
     "metadata": {},
     "outputs": [
      {
       "metadata": {},
       "output_type": "pyout",
       "prompt_number": 138,
       "text": [
        "['ham', 'brocilli']"
       ]
      }
     ],
     "prompt_number": 138
    },
    {
     "cell_type": "code",
     "collapsed": false,
     "input": [
      "Trible.legs"
     ],
     "language": "python",
     "metadata": {},
     "outputs": [
      {
       "metadata": {},
       "output_type": "pyout",
       "prompt_number": 139,
       "text": [
        "4"
       ]
      }
     ],
     "prompt_number": 139
    },
    {
     "cell_type": "code",
     "collapsed": false,
     "input": [
      "\n"
     ],
     "language": "python",
     "metadata": {},
     "outputs": [],
     "prompt_number": 139
    },
    {
     "cell_type": "code",
     "collapsed": false,
     "input": [
      "rover.legs\n"
     ],
     "language": "python",
     "metadata": {},
     "outputs": [
      {
       "metadata": {},
       "output_type": "pyout",
       "prompt_number": 140,
       "text": [
        "4"
       ]
      }
     ],
     "prompt_number": 140
    },
    {
     "cell_type": "code",
     "collapsed": false,
     "input": [
      "rover.eats"
     ],
     "language": "python",
     "metadata": {},
     "outputs": [
      {
       "metadata": {},
       "output_type": "pyout",
       "prompt_number": 141,
       "text": [
        "['meat', 'dog food']"
       ]
      }
     ],
     "prompt_number": 141
    },
    {
     "cell_type": "code",
     "collapsed": false,
     "input": [
      "Trible.eats.append('grass')"
     ],
     "language": "python",
     "metadata": {},
     "outputs": [],
     "prompt_number": 142
    },
    {
     "cell_type": "code",
     "collapsed": false,
     "input": [
      "Trible.eats\n"
     ],
     "language": "python",
     "metadata": {},
     "outputs": [
      {
       "metadata": {},
       "output_type": "pyout",
       "prompt_number": 143,
       "text": [
        "['ham', 'brocilli', 'grass']"
       ]
      }
     ],
     "prompt_number": 143
    },
    {
     "cell_type": "code",
     "collapsed": false,
     "input": [
      "Trible.eats.append('mushrooms')\n"
     ],
     "language": "python",
     "metadata": {},
     "outputs": [],
     "prompt_number": 144
    },
    {
     "cell_type": "code",
     "collapsed": false,
     "input": [
      "Trible.eats"
     ],
     "language": "python",
     "metadata": {},
     "outputs": [
      {
       "metadata": {},
       "output_type": "pyout",
       "prompt_number": 145,
       "text": [
        "['ham', 'brocilli', 'grass', 'mushrooms']"
       ]
      }
     ],
     "prompt_number": 145
    },
    {
     "cell_type": "code",
     "collapsed": false,
     "input": [
      "Trible.legs = 6"
     ],
     "language": "python",
     "metadata": {},
     "outputs": [],
     "prompt_number": 146
    },
    {
     "cell_type": "code",
     "collapsed": false,
     "input": [
      "Trible.legs"
     ],
     "language": "python",
     "metadata": {},
     "outputs": [
      {
       "metadata": {},
       "output_type": "pyout",
       "prompt_number": 147,
       "text": [
        "6"
       ]
      }
     ],
     "prompt_number": 147
    },
    {
     "cell_type": "code",
     "collapsed": false,
     "input": [
      "type(Trible)"
     ],
     "language": "python",
     "metadata": {},
     "outputs": [
      {
       "metadata": {},
       "output_type": "pyout",
       "prompt_number": 148,
       "text": [
        "__main__.Animal"
       ]
      }
     ],
     "prompt_number": 148
    },
    {
     "cell_type": "raw",
     "metadata": {},
     "source": [
      "Trible.meal(\"poop\")\n",
      "---------------------------------------------------------------------------\n",
      "TypeError                                 Traceback (most recent call last)\n",
      "<ipython-input-88-6052b2bafecd> in <module>()\n",
      "----> 1 Trible.meal(\"poop\")\n",
      "\n",
      "<ipython-input-74-49a8e7877177> in meal(self, food)\n",
      "     11         if food in self.eats:\n",
      "     12             self.health += 2\n",
      "---> 13         elif food in self.poison:\n",
      "     14             self.health -= 1\n",
      "     15         else:\n",
      "\n",
      "TypeError: argument of type 'type' is not iterable\n",
      "    "
     ]
    },
    {
     "cell_type": "code",
     "collapsed": false,
     "input": [
      "Trible.meal(\"poop\")"
     ],
     "language": "python",
     "metadata": {},
     "outputs": [
      {
       "output_type": "stream",
       "stream": "stdout",
       "text": [
        "I can't eat that\n"
       ]
      }
     ],
     "prompt_number": 149
    },
    {
     "cell_type": "code",
     "collapsed": false,
     "input": [
      "Trible.eats"
     ],
     "language": "python",
     "metadata": {},
     "outputs": [
      {
       "metadata": {},
       "output_type": "pyout",
       "prompt_number": 150,
       "text": [
        "['ham', 'brocilli', 'grass', 'mushrooms']"
       ]
      }
     ],
     "prompt_number": 150
    },
    {
     "cell_type": "code",
     "collapsed": false,
     "input": [
      "Trible.meal(\"brocilli\")"
     ],
     "language": "python",
     "metadata": {},
     "outputs": [],
     "prompt_number": 151
    },
    {
     "cell_type": "code",
     "collapsed": false,
     "input": [
      "Trible.health"
     ],
     "language": "python",
     "metadata": {},
     "outputs": [
      {
       "metadata": {},
       "output_type": "pyout",
       "prompt_number": 152,
       "text": [
        "12"
       ]
      }
     ],
     "prompt_number": 152
    },
    {
     "cell_type": "code",
     "collapsed": false,
     "input": [
      "Trible.eats += ('sunshine', 'spice', 'everything nice')\n"
     ],
     "language": "python",
     "metadata": {},
     "outputs": [],
     "prompt_number": 153
    },
    {
     "cell_type": "code",
     "collapsed": false,
     "input": [
      "Trible.eats"
     ],
     "language": "python",
     "metadata": {},
     "outputs": [
      {
       "metadata": {},
       "output_type": "pyout",
       "prompt_number": 154,
       "text": [
        "['ham',\n",
        " 'brocilli',\n",
        " 'grass',\n",
        " 'mushrooms',\n",
        " 'sunshine',\n",
        " 'spice',\n",
        " 'everything nice']"
       ]
      }
     ],
     "prompt_number": 154
    },
    {
     "cell_type": "code",
     "collapsed": false,
     "input": [
      "Trible.poison += ('spoiled meat', 'poision mushrooms', 'hairballs')"
     ],
     "language": "python",
     "metadata": {},
     "outputs": [],
     "prompt_number": 155
    },
    {
     "cell_type": "code",
     "collapsed": false,
     "input": [
      "Trible.poison"
     ],
     "language": "python",
     "metadata": {},
     "outputs": [
      {
       "metadata": {},
       "output_type": "pyout",
       "prompt_number": 156,
       "text": [
        "['spoiled meat', 'poision mushrooms', 'hairballs']"
       ]
      }
     ],
     "prompt_number": 156
    },
    {
     "cell_type": "code",
     "collapsed": false,
     "input": [
      "Trible.health"
     ],
     "language": "python",
     "metadata": {},
     "outputs": [
      {
       "metadata": {},
       "output_type": "pyout",
       "prompt_number": 157,
       "text": [
        "12"
       ]
      }
     ],
     "prompt_number": 157
    },
    {
     "cell_type": "code",
     "collapsed": false,
     "input": [
      "Trible.meal('poision mushrooms')"
     ],
     "language": "python",
     "metadata": {},
     "outputs": [
      {
       "output_type": "stream",
       "stream": "stdout",
       "text": [
        "YuK :P\n"
       ]
      }
     ],
     "prompt_number": 158
    },
    {
     "cell_type": "code",
     "collapsed": false,
     "input": [
      "Trible.health"
     ],
     "language": "python",
     "metadata": {},
     "outputs": [
      {
       "metadata": {},
       "output_type": "pyout",
       "prompt_number": 159,
       "text": [
        "7"
       ]
      }
     ],
     "prompt_number": 159
    },
    {
     "cell_type": "code",
     "collapsed": false,
     "input": [],
     "language": "python",
     "metadata": {},
     "outputs": []
    }
   ],
   "metadata": {}
  }
 ]
}